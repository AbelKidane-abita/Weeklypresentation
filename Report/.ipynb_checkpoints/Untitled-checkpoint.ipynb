{
 "cells": [
  {
   "cell_type": "markdown",
   "id": "fbd93ac4-26d4-441c-ba61-74ac69700033",
   "metadata": {},
   "source": [
    "# Custom Head Detector using YoloV8"
   ]
  },
  {
   "cell_type": "markdown",
   "id": "d54b6e77-45d2-442b-b5d5-3a8ffbaa0bc2",
   "metadata": {},
   "source": [
    "## 1. Literature Review"
   ]
  },
  {
   "cell_type": "markdown",
   "id": "646b0ad7-2d86-4efe-936d-62567f386203",
   "metadata": {},
   "source": [
    "For video survellience tasks, head detections is one of the most important tasks. It can be used to develop tracking systems, crowd counting and crowd density estimation [1]. However, detecting heads with full variation of camera view points, poses, appearances, and scales is still a challenging task to do [2]. Recently, convolutional neural networks (CNN) have gained achieved a tremendous success for object detection and classification tasks [2]. \n",
    "\n",
    "In this project, we built a Yolov8 based head detection model that aims to detect human heads in a crowd. The model was trained and evaluated using a dataset that can be found on Kaggle. "
   ]
  },
  {
   "cell_type": "markdown",
   "id": "45064e69-a502-466a-bbb4-aa3e5aaae2a3",
   "metadata": {},
   "source": [
    "## 2. Results and Analysis"
   ]
  },
  {
   "cell_type": "markdown",
   "id": "a3868422-1f4f-4686-bbce-0d6a7f166b20",
   "metadata": {},
   "source": [
    "The first test we did was selecting which optimizer is the best for our model. YoloV8 allows us to select from the following set of optimizers: SGD, Adam, Adamax, AdamW, NAdam, RAdam, RMSProp, or auto. When selecting auto, the Ultralytics library either selects AdamW, or SGD based on the dataset. For our case it selected SGD, hence its results will be associated with SGD. Keeping all other hyperparameters the same "
   ]
  },
  {
   "cell_type": "code",
   "execution_count": null,
   "id": "3de9a3cb-23bf-424b-bb94-2e73cd3bc4ed",
   "metadata": {},
   "outputs": [],
   "source": []
  },
  {
   "cell_type": "markdown",
   "id": "f080bf56-f00a-4b58-8c2f-11c20ab53e2d",
   "metadata": {},
   "source": [
    "## References"
   ]
  },
  {
   "cell_type": "markdown",
   "id": "acf9af4b-4e7b-49ca-8512-e3aa000cd17e",
   "metadata": {},
   "source": [
    "[1] V. B. Subburaman, A. Descamps and C. Carincotte, \"Counting People in the Crowd Using a Generic Head Detector,\" 2012 IEEE Ninth International Conference on Advanced Video and Signal-Based Surveillance, Beijing, China, 2012, pp. 470-475, doi: 10.1109/AVSS.2012.87.\n",
    "\n",
    "[2] S. D. Khan, H. Ullah, M. Ullah, F. A. Cheikh and A. Beghdadi, \"Dimension Invariant Model for Human Head Detection,\" 2019 8th European Workshop on Visual Information Processing (EUVIP), Roma, Italy, 2019, pp. 99-104, doi: 10.1109/EUVIP47703.2019.8946163."
   ]
  },
  {
   "cell_type": "markdown",
   "id": "f1abc616-d5ab-4c26-b885-9f1552258ee5",
   "metadata": {},
   "source": [
    "Dataset: https://www.kaggle.com/datasets/hilongnguyn/human-crowd-dataset "
   ]
  }
 ],
 "metadata": {
  "kernelspec": {
   "display_name": "Python 3 (ipykernel)",
   "language": "python",
   "name": "python3"
  },
  "language_info": {
   "codemirror_mode": {
    "name": "ipython",
    "version": 3
   },
   "file_extension": ".py",
   "mimetype": "text/x-python",
   "name": "python",
   "nbconvert_exporter": "python",
   "pygments_lexer": "ipython3",
   "version": "3.10.12"
  }
 },
 "nbformat": 4,
 "nbformat_minor": 5
}
