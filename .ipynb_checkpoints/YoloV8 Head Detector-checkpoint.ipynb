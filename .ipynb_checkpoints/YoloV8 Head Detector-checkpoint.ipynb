{
 "cells": [
  {
   "cell_type": "markdown",
   "id": "fabb0a0e-3215-43f9-80b5-a4d26a7989c8",
   "metadata": {
    "editable": true,
    "slideshow": {
     "slide_type": "slide"
    },
    "tags": []
   },
   "source": [
    "# <center><span style=\"color:yellow\"> YoloV8 Head Detector </span></center>"
   ]
  },
  {
   "cell_type": "markdown",
   "id": "957bcff2-62df-4273-a597-8af502420518",
   "metadata": {
    "editable": true,
    "slideshow": {
     "slide_type": ""
    },
    "tags": []
   },
   "source": [
    "## 1. Effect of changing batch sizes"
   ]
  },
  {
   "cell_type": "code",
   "execution_count": null,
   "id": "dde2c2b6-3272-4ebd-9a79-d904ac2408e6",
   "metadata": {
    "editable": true,
    "slideshow": {
     "slide_type": ""
    },
    "tags": []
   },
   "outputs": [],
   "source": []
  },
  {
   "cell_type": "code",
   "execution_count": null,
   "id": "f4189f76-2774-4bca-ab7d-9deaed44abee",
   "metadata": {},
   "outputs": [],
   "source": []
  },
  {
   "cell_type": "code",
   "execution_count": null,
   "id": "ad1039f0-adec-4d95-81a3-c87bdff0ee0b",
   "metadata": {},
   "outputs": [],
   "source": []
  },
  {
   "cell_type": "code",
   "execution_count": null,
   "id": "0212ad69-df4c-414d-bb95-dccc5de3244c",
   "metadata": {},
   "outputs": [],
   "source": []
  },
  {
   "cell_type": "markdown",
   "id": "4cc7aab2-31ee-4140-b665-b34cd0d49bd1",
   "metadata": {},
   "source": [
    "## 2. Effect of changing the number of epochs"
   ]
  },
  {
   "cell_type": "code",
   "execution_count": null,
   "id": "2d4fc20f-0757-4a6b-a7bd-329430ba6d16",
   "metadata": {},
   "outputs": [],
   "source": []
  },
  {
   "cell_type": "code",
   "execution_count": null,
   "id": "c804a551-5d41-4050-9d60-f6c138f6db88",
   "metadata": {},
   "outputs": [],
   "source": []
  },
  {
   "cell_type": "code",
   "execution_count": null,
   "id": "40c360e9-d465-4aa6-8107-65ecef06f319",
   "metadata": {},
   "outputs": [],
   "source": []
  },
  {
   "cell_type": "markdown",
   "id": "0a509a97-57b4-44dd-a66f-bb58001709ad",
   "metadata": {},
   "source": [
    "## 3. Selecting optimizers"
   ]
  },
  {
   "cell_type": "code",
   "execution_count": null,
   "id": "ac2c8529-8b1b-476e-86df-569e48cd6d05",
   "metadata": {},
   "outputs": [],
   "source": []
  },
  {
   "cell_type": "code",
   "execution_count": null,
   "id": "895cdf4e-e383-4359-b64b-88f231100bd5",
   "metadata": {},
   "outputs": [],
   "source": []
  },
  {
   "cell_type": "code",
   "execution_count": null,
   "id": "5456c126-1a88-4a6c-b7d7-fd12f11d0747",
   "metadata": {},
   "outputs": [],
   "source": []
  },
  {
   "cell_type": "markdown",
   "id": "0785b1b3-7a77-40bd-9739-81bb7b7333ae",
   "metadata": {},
   "source": [
    "## 4. Effect of having a cosine scheduler"
   ]
  },
  {
   "cell_type": "code",
   "execution_count": null,
   "id": "829735be-d3bb-479d-bf0f-b8dfab82fbcd",
   "metadata": {},
   "outputs": [],
   "source": []
  },
  {
   "cell_type": "code",
   "execution_count": null,
   "id": "f388d07f-9246-41c5-b325-be75bdd9cd0e",
   "metadata": {},
   "outputs": [],
   "source": []
  },
  {
   "cell_type": "code",
   "execution_count": null,
   "id": "d89f3556-8a00-49d5-95bc-cc43c5c28762",
   "metadata": {},
   "outputs": [],
   "source": []
  },
  {
   "cell_type": "markdown",
   "id": "dfed253d-edc5-4cac-bbf7-f3c2f2a9b92e",
   "metadata": {},
   "source": [
    "## 5. Effect of changing learning rates"
   ]
  },
  {
   "cell_type": "code",
   "execution_count": null,
   "id": "9e8e8dc3-2192-44e7-9f50-32f11cf533a6",
   "metadata": {},
   "outputs": [],
   "source": []
  },
  {
   "cell_type": "code",
   "execution_count": null,
   "id": "498991d0-fbaa-46ec-88ee-e249b9bf3e57",
   "metadata": {},
   "outputs": [],
   "source": []
  },
  {
   "cell_type": "code",
   "execution_count": null,
   "id": "8f045779-b21d-4577-9aa9-2be1bf23c392",
   "metadata": {},
   "outputs": [],
   "source": []
  },
  {
   "cell_type": "markdown",
   "id": "df7fa289-0acc-4ba9-8122-3ad3c2d8cb94",
   "metadata": {},
   "source": [
    "## 6. Effect of changing the model size"
   ]
  },
  {
   "cell_type": "code",
   "execution_count": null,
   "id": "e91ea1cc-c59b-431a-94a5-36eee8dd7d26",
   "metadata": {},
   "outputs": [],
   "source": []
  },
  {
   "cell_type": "code",
   "execution_count": null,
   "id": "e33d37cd-804d-4b86-9ef6-f3e5edd304ac",
   "metadata": {},
   "outputs": [],
   "source": []
  },
  {
   "cell_type": "code",
   "execution_count": null,
   "id": "23cbaf7f-aed3-4d2b-81ad-b5ea047056f6",
   "metadata": {},
   "outputs": [],
   "source": []
  }
 ],
 "metadata": {
  "kernelspec": {
   "display_name": "Python 3 (ipykernel)",
   "language": "python",
   "name": "python3"
  },
  "language_info": {
   "codemirror_mode": {
    "name": "ipython",
    "version": 3
   },
   "file_extension": ".py",
   "mimetype": "text/x-python",
   "name": "python",
   "nbconvert_exporter": "python",
   "pygments_lexer": "ipython3",
   "version": "3.10.12"
  },
  "toc": {
   "base_numbering": 1
  }
 },
 "nbformat": 4,
 "nbformat_minor": 5
}
